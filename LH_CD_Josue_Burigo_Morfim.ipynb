{
  "cells": [
    {
      "cell_type": "markdown",
      "id": "82d10a15",
      "metadata": {
        "id": "82d10a15"
      },
      "source": [
        "# Imdb - PProductions"
      ]
    },
    {
      "cell_type": "markdown",
      "id": "c5caba1b",
      "metadata": {
        "id": "c5caba1b"
      },
      "source": [
        "----\n"
      ]
    },
    {
      "cell_type": "markdown",
      "id": "9199dc82",
      "metadata": {
        "id": "9199dc82"
      },
      "source": [
        "# Topicos\n",
        "1. Introdução\n",
        "2. Carregamento e tratamento dos dados\n",
        "    - 2.1 Importação das bibliotecas\n",
        "    - 2.2 Leitura do dataset\n",
        "    - 2.3 Tratando as colunas *Unnamed:0* e *Runtime*\n",
        "    - 2.4 Tratando a coluna *Certificate*\n",
        "    - 2.5 Tratando a coluna *Gross*\n",
        "    - Ajustes de tipos de dados e formatações.\n",
        "3. Analise Exploratória (EDA)\n",
        "    - 3.1 Qual genero tem o maior IMDB_Rating?\n",
        "    - 3.2 Quantos representantes de cada genero temos nos nossos dados?\n",
        "    - 3.3 Quais variáveis tem maior correlação com o Gross?\n",
        "    - 3.4 Qual a média de faturamento por genero?\n",
        "    - 3.5 Qual diretor possuí maior média de faturamento?\n",
        "    - 3.6 Quais são as combinações de palavras mais frequentes na coluna Overview?\n",
        "4. Machine Learning / Modelagem\n",
        "    - 4.1 É possível inferir o genero do titulo através da coluna Overview?\n",
        "    - 4.2 Criando modelo de Regressão para prever o IMDB_Rating\n",
        "---"
      ]
    },
    {
      "cell_type": "markdown",
      "id": "c45b9133",
      "metadata": {
        "id": "c45b9133"
      },
      "source": [
        "# 1 - Introdução\n",
        "\n",
        "A indústria cinematográfica é um mercado de alto risco e grande investimento. Para um estúdio como a **PProductions**, a escolha do próximo filme a ser produzido é uma decisão estratégica que pode definir o sucesso financeiro do ano. Este projeto tem como objetivo principal mitigar esse risco, utilizando a **ciência de dados** para transformar informações históricas em **insights** acionáveis e responder à pergunta central: *\"Qual tipo de filme a PProductions deve desenvolver para maximizar suas chances de sucesso?*\". Para isso, foi realizada uma análise detalhada sobre um rico dataset do **IMDb**, explorando as relações entre gênero, elenco, diretores, faturamento e as notas da crítica e do público para fornecer recomendações baseadas em evidências.\n",
        "\n",
        "----"
      ]
    },
    {
      "cell_type": "markdown",
      "id": "5745c754",
      "metadata": {
        "id": "5745c754"
      },
      "source": [
        "# 2 - Carregamento e tratamento dos dados"
      ]
    },
    {
      "cell_type": "markdown",
      "id": "6628f6cb",
      "metadata": {
        "id": "6628f6cb"
      },
      "source": [
        "## 2.1 - Importando as bibliotecas"
      ]
    },
    {
      "cell_type": "code",
      "execution_count": 32,
      "id": "9892af46",
      "metadata": {
        "colab": {
          "base_uri": "https://localhost:8080/"
        },
        "id": "9892af46",
        "outputId": "84d96b9d-f9f3-4c7a-9f64-53fc08c8d0bf"
      },
      "outputs": [
        {
          "name": "stderr",
          "output_type": "stream",
          "text": [
            "[nltk_data] Downloading package stopwords to\n",
            "[nltk_data]     C:\\Users\\jbmor_cyx2d7v\\AppData\\Roaming\\nltk_data...\n",
            "[nltk_data]   Package stopwords is already up-to-date!\n"
          ]
        },
        {
          "data": {
            "text/plain": [
              "True"
            ]
          },
          "execution_count": 32,
          "metadata": {},
          "output_type": "execute_result"
        }
      ],
      "source": [
        "import pandas as pd\n",
        "import numpy as np\n",
        "import matplotlib.pyplot as plt\n",
        "import seaborn as sns\n",
        "import nltk\n",
        "import matplotlib.ticker as ticker\n",
        "import joblib\n",
        "\n",
        "from nltk.corpus import stopwords\n",
        "from wordcloud import WordCloud\n",
        "from sklearn.feature_extraction.text import TfidfVectorizer\n",
        "from sklearn.model_selection import train_test_split\n",
        "from sklearn.naive_bayes import MultinomialNB\n",
        "from sklearn.metrics import accuracy_score, classification_report\n",
        "from sklearn.feature_extraction.text import CountVectorizer\n",
        "from sklearn.ensemble import RandomForestRegressor\n",
        "from sklearn.metrics import mean_squared_error\n",
        "\n",
        "pd.set_option('display.float_format', '{:,.2f}'.format)\n",
        "nltk.download('stopwords')"
      ]
    },
    {
      "cell_type": "code",
      "execution_count": 33,
      "id": "IEq5x8BAhefj",
      "metadata": {
        "id": "IEq5x8BAhefj"
      },
      "outputs": [],
      "source": [
        "def formatar_faturamento(valor):\n",
        "\n",
        "    if pd.isnull(valor):\n",
        "        return \"N/A\"\n",
        "\n",
        "    valor = float(valor)\n",
        "\n",
        "    if valor >= 1_000_000_000:\n",
        "        # Converte para Bilhões\n",
        "        return f'${valor / 1_000_000_000:.1f} B'\n",
        "    elif valor >= 1_000_000:\n",
        "        # Converte para Milhões\n",
        "        return f'${valor / 1_000_000:.1f} M'\n",
        "    elif valor >= 1_000:\n",
        "        # Converte para Milhares (caso precise)\n",
        "        return f'${valor / 1_000:.1f} K'\n",
        "    else:\n",
        "        return f'${valor:.0f}'"
      ]
    },
    {
      "cell_type": "markdown",
      "id": "10b3a8ef",
      "metadata": {},
      "source": [
        "## 2.2 - Leitura do Dataset"
      ]
    },
    {
      "cell_type": "code",
      "execution_count": 34,
      "id": "07ef51b2",
      "metadata": {
        "colab": {
          "base_uri": "https://localhost:8080/",
          "height": 362
        },
        "id": "07ef51b2",
        "outputId": "9e7406ac-27b7-4ccb-f57f-25512a97cadd"
      },
      "outputs": [
        {
          "data": {
            "text/html": [
              "<div>\n",
              "<style scoped>\n",
              "    .dataframe tbody tr th:only-of-type {\n",
              "        vertical-align: middle;\n",
              "    }\n",
              "\n",
              "    .dataframe tbody tr th {\n",
              "        vertical-align: top;\n",
              "    }\n",
              "\n",
              "    .dataframe thead th {\n",
              "        text-align: right;\n",
              "    }\n",
              "</style>\n",
              "<table border=\"1\" class=\"dataframe\">\n",
              "  <thead>\n",
              "    <tr style=\"text-align: right;\">\n",
              "      <th></th>\n",
              "      <th>Unnamed: 0</th>\n",
              "      <th>Series_Title</th>\n",
              "      <th>Released_Year</th>\n",
              "      <th>Certificate</th>\n",
              "      <th>Runtime</th>\n",
              "      <th>Genre</th>\n",
              "      <th>IMDB_Rating</th>\n",
              "      <th>Overview</th>\n",
              "      <th>Meta_score</th>\n",
              "      <th>Director</th>\n",
              "      <th>Star1</th>\n",
              "      <th>Star2</th>\n",
              "      <th>Star3</th>\n",
              "      <th>Star4</th>\n",
              "      <th>No_of_Votes</th>\n",
              "      <th>Gross</th>\n",
              "    </tr>\n",
              "  </thead>\n",
              "  <tbody>\n",
              "    <tr>\n",
              "      <th>0</th>\n",
              "      <td>1</td>\n",
              "      <td>The Godfather</td>\n",
              "      <td>1972</td>\n",
              "      <td>A</td>\n",
              "      <td>175 min</td>\n",
              "      <td>Crime, Drama</td>\n",
              "      <td>9.20</td>\n",
              "      <td>An organized crime dynasty's aging patriarch t...</td>\n",
              "      <td>100.00</td>\n",
              "      <td>Francis Ford Coppola</td>\n",
              "      <td>Marlon Brando</td>\n",
              "      <td>Al Pacino</td>\n",
              "      <td>James Caan</td>\n",
              "      <td>Diane Keaton</td>\n",
              "      <td>1620367</td>\n",
              "      <td>134,966,411</td>\n",
              "    </tr>\n",
              "    <tr>\n",
              "      <th>1</th>\n",
              "      <td>2</td>\n",
              "      <td>The Dark Knight</td>\n",
              "      <td>2008</td>\n",
              "      <td>UA</td>\n",
              "      <td>152 min</td>\n",
              "      <td>Action, Crime, Drama</td>\n",
              "      <td>9.00</td>\n",
              "      <td>When the menace known as the Joker wreaks havo...</td>\n",
              "      <td>84.00</td>\n",
              "      <td>Christopher Nolan</td>\n",
              "      <td>Christian Bale</td>\n",
              "      <td>Heath Ledger</td>\n",
              "      <td>Aaron Eckhart</td>\n",
              "      <td>Michael Caine</td>\n",
              "      <td>2303232</td>\n",
              "      <td>534,858,444</td>\n",
              "    </tr>\n",
              "    <tr>\n",
              "      <th>2</th>\n",
              "      <td>3</td>\n",
              "      <td>The Godfather: Part II</td>\n",
              "      <td>1974</td>\n",
              "      <td>A</td>\n",
              "      <td>202 min</td>\n",
              "      <td>Crime, Drama</td>\n",
              "      <td>9.00</td>\n",
              "      <td>The early life and career of Vito Corleone in ...</td>\n",
              "      <td>90.00</td>\n",
              "      <td>Francis Ford Coppola</td>\n",
              "      <td>Al Pacino</td>\n",
              "      <td>Robert De Niro</td>\n",
              "      <td>Robert Duvall</td>\n",
              "      <td>Diane Keaton</td>\n",
              "      <td>1129952</td>\n",
              "      <td>57,300,000</td>\n",
              "    </tr>\n",
              "    <tr>\n",
              "      <th>3</th>\n",
              "      <td>4</td>\n",
              "      <td>12 Angry Men</td>\n",
              "      <td>1957</td>\n",
              "      <td>U</td>\n",
              "      <td>96 min</td>\n",
              "      <td>Crime, Drama</td>\n",
              "      <td>9.00</td>\n",
              "      <td>A jury holdout attempts to prevent a miscarria...</td>\n",
              "      <td>96.00</td>\n",
              "      <td>Sidney Lumet</td>\n",
              "      <td>Henry Fonda</td>\n",
              "      <td>Lee J. Cobb</td>\n",
              "      <td>Martin Balsam</td>\n",
              "      <td>John Fiedler</td>\n",
              "      <td>689845</td>\n",
              "      <td>4,360,000</td>\n",
              "    </tr>\n",
              "    <tr>\n",
              "      <th>4</th>\n",
              "      <td>5</td>\n",
              "      <td>The Lord of the Rings: The Return of the King</td>\n",
              "      <td>2003</td>\n",
              "      <td>U</td>\n",
              "      <td>201 min</td>\n",
              "      <td>Action, Adventure, Drama</td>\n",
              "      <td>8.90</td>\n",
              "      <td>Gandalf and Aragorn lead the World of Men agai...</td>\n",
              "      <td>94.00</td>\n",
              "      <td>Peter Jackson</td>\n",
              "      <td>Elijah Wood</td>\n",
              "      <td>Viggo Mortensen</td>\n",
              "      <td>Ian McKellen</td>\n",
              "      <td>Orlando Bloom</td>\n",
              "      <td>1642758</td>\n",
              "      <td>377,845,905</td>\n",
              "    </tr>\n",
              "  </tbody>\n",
              "</table>\n",
              "</div>"
            ],
            "text/plain": [
              "   Unnamed: 0                                   Series_Title Released_Year  \\\n",
              "0           1                                  The Godfather          1972   \n",
              "1           2                                The Dark Knight          2008   \n",
              "2           3                         The Godfather: Part II          1974   \n",
              "3           4                                   12 Angry Men          1957   \n",
              "4           5  The Lord of the Rings: The Return of the King          2003   \n",
              "\n",
              "  Certificate  Runtime                     Genre  IMDB_Rating  \\\n",
              "0           A  175 min              Crime, Drama         9.20   \n",
              "1          UA  152 min      Action, Crime, Drama         9.00   \n",
              "2           A  202 min              Crime, Drama         9.00   \n",
              "3           U   96 min              Crime, Drama         9.00   \n",
              "4           U  201 min  Action, Adventure, Drama         8.90   \n",
              "\n",
              "                                            Overview  Meta_score  \\\n",
              "0  An organized crime dynasty's aging patriarch t...      100.00   \n",
              "1  When the menace known as the Joker wreaks havo...       84.00   \n",
              "2  The early life and career of Vito Corleone in ...       90.00   \n",
              "3  A jury holdout attempts to prevent a miscarria...       96.00   \n",
              "4  Gandalf and Aragorn lead the World of Men agai...       94.00   \n",
              "\n",
              "               Director           Star1            Star2          Star3  \\\n",
              "0  Francis Ford Coppola   Marlon Brando        Al Pacino     James Caan   \n",
              "1     Christopher Nolan  Christian Bale     Heath Ledger  Aaron Eckhart   \n",
              "2  Francis Ford Coppola       Al Pacino   Robert De Niro  Robert Duvall   \n",
              "3          Sidney Lumet     Henry Fonda      Lee J. Cobb  Martin Balsam   \n",
              "4         Peter Jackson     Elijah Wood  Viggo Mortensen   Ian McKellen   \n",
              "\n",
              "           Star4  No_of_Votes        Gross  \n",
              "0   Diane Keaton      1620367  134,966,411  \n",
              "1  Michael Caine      2303232  534,858,444  \n",
              "2   Diane Keaton      1129952   57,300,000  \n",
              "3   John Fiedler       689845    4,360,000  \n",
              "4  Orlando Bloom      1642758  377,845,905  "
            ]
          },
          "execution_count": 34,
          "metadata": {},
          "output_type": "execute_result"
        }
      ],
      "source": [
        "caminho = \"https://raw.githubusercontent.com/JosueMorfim/indicium-pproductions/refs/heads/main/desafio_indicium_imdb.csv\"\n",
        "\n",
        "# Carregando os dados em um DataFrame\n",
        "imdb = pd.read_csv(caminho)\n",
        "\n",
        "# Visualizando as 5 primeiras linhas\n",
        "imdb.head()"
      ]
    },
    {
      "cell_type": "markdown",
      "id": "413d6aca",
      "metadata": {
        "id": "413d6aca"
      },
      "source": [
        "## 2.3 - Tratando as colunas *Unnamed:0* e *Runtime*\n",
        "\n",
        "* **Unnamed:0** : É o rank do site IMDB, vou remover esta coluna pois não vai agregar em nosso projeto.\n",
        "* **Runtime** : Os valores desta coluna estão como string \"175 min\". Vou criar uma nova coluna \"Runtime_min\" e manter apenas os dados numericos da coluna Runtime."
      ]
    },
    {
      "cell_type": "code",
      "execution_count": 35,
      "id": "964c89e2",
      "metadata": {
        "id": "964c89e2"
      },
      "outputs": [],
      "source": [
        "# Removendo a coluna Unnamed:0\n",
        "imdb.drop('Unnamed: 0', axis=1, inplace=True)\n",
        "\n",
        "# Criando a coluna \"Runtime_min\" contendo apenas os valores numericos da coluna \"Runtime\"\n",
        "imdb['Runtime_min'] = imdb['Runtime'].apply(lambda x: x.split(' ')[0]).astype(int)\n",
        "\n",
        "# Removendo a coluna Runtime\n",
        "imdb.drop('Runtime', axis=1, inplace=True)"
      ]
    },
    {
      "cell_type": "markdown",
      "id": "82e222a2",
      "metadata": {
        "id": "82e222a2"
      },
      "source": [
        "Verificando os tipos de dados, contagem de nulos, quantidade de linhas."
      ]
    },
    {
      "cell_type": "code",
      "execution_count": 36,
      "id": "pNGXekcgqSh1",
      "metadata": {
        "colab": {
          "base_uri": "https://localhost:8080/"
        },
        "id": "pNGXekcgqSh1",
        "outputId": "080147b6-7749-4e18-c7e5-75d031fba55f"
      },
      "outputs": [
        {
          "name": "stdout",
          "output_type": "stream",
          "text": [
            "Quantidade de variaveis duplicadas é 0\n"
          ]
        }
      ],
      "source": [
        "print('Quantidade de variaveis duplicadas é',imdb.duplicated().sum())"
      ]
    },
    {
      "cell_type": "code",
      "execution_count": 37,
      "id": "1e26bf22",
      "metadata": {
        "colab": {
          "base_uri": "https://localhost:8080/"
        },
        "id": "1e26bf22",
        "outputId": "c16ebd24-885a-48ac-b9ae-96e8b760c355"
      },
      "outputs": [
        {
          "name": "stdout",
          "output_type": "stream",
          "text": [
            "<class 'pandas.core.frame.DataFrame'>\n",
            "RangeIndex: 999 entries, 0 to 998\n",
            "Data columns (total 15 columns):\n",
            " #   Column         Non-Null Count  Dtype  \n",
            "---  ------         --------------  -----  \n",
            " 0   Series_Title   999 non-null    object \n",
            " 1   Released_Year  999 non-null    object \n",
            " 2   Certificate    898 non-null    object \n",
            " 3   Genre          999 non-null    object \n",
            " 4   IMDB_Rating    999 non-null    float64\n",
            " 5   Overview       999 non-null    object \n",
            " 6   Meta_score     842 non-null    float64\n",
            " 7   Director       999 non-null    object \n",
            " 8   Star1          999 non-null    object \n",
            " 9   Star2          999 non-null    object \n",
            " 10  Star3          999 non-null    object \n",
            " 11  Star4          999 non-null    object \n",
            " 12  No_of_Votes    999 non-null    int64  \n",
            " 13  Gross          830 non-null    object \n",
            " 14  Runtime_min    999 non-null    int64  \n",
            "dtypes: float64(2), int64(2), object(11)\n",
            "memory usage: 117.2+ KB\n"
          ]
        }
      ],
      "source": [
        "# Visualizando as informações do DataFrame\n",
        "imdb.info()"
      ]
    },
    {
      "cell_type": "code",
      "execution_count": 38,
      "id": "2647f4a8",
      "metadata": {
        "colab": {
          "base_uri": "https://localhost:8080/",
          "height": 554
        },
        "id": "2647f4a8",
        "outputId": "d89885f5-dae5-4357-d33e-4d0f1e422fd1"
      },
      "outputs": [
        {
          "data": {
            "text/plain": [
              "Series_Title       0\n",
              "Released_Year      0\n",
              "Certificate      101\n",
              "Genre              0\n",
              "IMDB_Rating        0\n",
              "Overview           0\n",
              "Meta_score       157\n",
              "Director           0\n",
              "Star1              0\n",
              "Star2              0\n",
              "Star3              0\n",
              "Star4              0\n",
              "No_of_Votes        0\n",
              "Gross            169\n",
              "Runtime_min        0\n",
              "dtype: int64"
            ]
          },
          "execution_count": 38,
          "metadata": {},
          "output_type": "execute_result"
        }
      ],
      "source": [
        "# Contagem de dados nulos por coluna\n",
        "imdb.isnull().sum()"
      ]
    },
    {
      "cell_type": "code",
      "execution_count": 39,
      "id": "a09bb7f3",
      "metadata": {
        "colab": {
          "base_uri": "https://localhost:8080/"
        },
        "id": "a09bb7f3",
        "outputId": "e8af5e52-3239-4411-9bb2-d4b67c6c6cd4"
      },
      "outputs": [
        {
          "name": "stdout",
          "output_type": "stream",
          "text": [
            "Porcentagem de dados faltantes na coluna Certificate : 10.11%\n",
            "Porcentagem de dados faltantes na coluna Meta_score : 15.72%\n",
            "Porcentagem de dados faltantes na coluna Gross : 16.92%\n"
          ]
        }
      ],
      "source": [
        "print(f'Porcentagem de dados faltantes na coluna Certificate : {round(imdb.Certificate.isnull().sum() / len(imdb) * 100,2)}%')\n",
        "print(f'Porcentagem de dados faltantes na coluna Meta_score : {round(imdb.Meta_score.isnull().sum() / len(imdb) * 100,2)}%')\n",
        "print(f'Porcentagem de dados faltantes na coluna Gross : {round(imdb.Gross.isnull().sum() / len(imdb) * 100,2)}%')"
      ]
    },
    {
      "cell_type": "markdown",
      "id": "3c637716",
      "metadata": {
        "id": "3c637716"
      },
      "source": [
        "## 2.4 - Tratando a coluna Certificate\n",
        "\n",
        "  * Esta coluna faz referencia a ***Classificação etária*** do titulo. Como não podemos advinhar qual a classificação correta, vamos apenas substituir os valores nulos por \"**Unknown**\""
      ]
    },
    {
      "cell_type": "code",
      "execution_count": 40,
      "id": "dc595e09",
      "metadata": {
        "colab": {
          "base_uri": "https://localhost:8080/"
        },
        "id": "dc595e09",
        "outputId": "a6bf5e0c-e0f7-464d-b57e-d2c1d77b9aa4"
      },
      "outputs": [
        {
          "name": "stdout",
          "output_type": "stream",
          "text": [
            "Quantidade de nulos na coluna Certificate: 0\n"
          ]
        }
      ],
      "source": [
        "# Preenchendo os valores nulos da coluna \"Certificate\" com a categoria \"Unknown\"\n",
        "imdb['Certificate'] = imdb['Certificate'].fillna(\"Unknown\")\n",
        "\n",
        "#Verificando quantos valores nulos restaram\n",
        "print('Quantidade de nulos na coluna Certificate:', imdb.Certificate.isnull().sum())"
      ]
    },
    {
      "cell_type": "markdown",
      "id": "c7f91f09",
      "metadata": {
        "id": "c7f91f09"
      },
      "source": [
        "## 2.5 - Tratando a coluna Meta_score.\n",
        "\n",
        "  * Vai ser feito o preenchimento dos valores nulos da coluna **Meta_score** com a *mediana* de **Meta_score** por **Genre**. Para isto vamos realizar os seguintes passos:\n",
        "      1. Como a coluna **Genre** tem mais de uma categoria por linha, vou criar uma nova coluna chama \"**main_genre**\" apenas com a primeira categoria da coluna **Genre**.\n",
        "      2. Substituír os valores nulos pela mediana de **Mesta_score** agrupado pela coluna **main_genre**.\n",
        "      "
      ]
    },
    {
      "cell_type": "code",
      "execution_count": 41,
      "id": "5900f01e",
      "metadata": {
        "colab": {
          "base_uri": "https://localhost:8080/"
        },
        "id": "5900f01e",
        "outputId": "f981cfd7-c1ca-4d41-e384-bd2975466d15"
      },
      "outputs": [
        {
          "name": "stdout",
          "output_type": "stream",
          "text": [
            "Quantidade de combinações unicas na coluna Genre: 202\n",
            "Quantidade de generos na coluna main_genre: 14\n"
          ]
        }
      ],
      "source": [
        "# Verificando quantidade de combinações unicas de generos\n",
        "print('Quantidade de combinações unicas na coluna Genre:',imdb.Genre.nunique())\n",
        "\n",
        "# Criando a coluna \"main_genre\", apenas com o primeiro genero da coluna \"Genre\"\n",
        "imdb['main_genre'] = imdb['Genre'].apply(lambda x: x.split(',')[0])\n",
        "\n",
        "# Quantidade final de gerenos na coluna \"main_genre\"\n",
        "print('Quantidade de generos na coluna main_genre:',imdb.main_genre.nunique())"
      ]
    },
    {
      "cell_type": "code",
      "execution_count": 42,
      "id": "37d67d74",
      "metadata": {
        "colab": {
          "base_uri": "https://localhost:8080/"
        },
        "id": "37d67d74",
        "outputId": "0b9cd4a3-ad60-488f-aab7-cc9b5b51b4d0"
      },
      "outputs": [
        {
          "name": "stdout",
          "output_type": "stream",
          "text": [
            "Quantidade de nulos na coluna Meta_score: 2\n"
          ]
        }
      ],
      "source": [
        "# Substituíndo os valores Nulos da coluna Meta_score pela Mediana agrupada pela coluna main_genre\n",
        "imdb['Meta_score'] = imdb['Meta_score'].fillna(imdb.groupby('main_genre')['Meta_score'].transform('median'))\n",
        "print('Quantidade de nulos na coluna Meta_score:',imdb['Meta_score'].isnull().sum())"
      ]
    },
    {
      "cell_type": "code",
      "execution_count": 43,
      "id": "0f900207",
      "metadata": {
        "colab": {
          "base_uri": "https://localhost:8080/"
        },
        "id": "0f900207",
        "outputId": "7e4f6513-0c5d-4386-8646-25636864ba0c"
      },
      "outputs": [
        {
          "name": "stdout",
          "output_type": "stream",
          "text": [
            "Quantidade de nulos na coluna Meta_score: 0\n"
          ]
        }
      ],
      "source": [
        "# Removendo os dois nulos faltantes\n",
        "imdb = imdb.dropna(subset=['Meta_score'])\n",
        "\n",
        "print('Quantidade de nulos na coluna Meta_score:',imdb['Meta_score'].isnull().sum())"
      ]
    },
    {
      "cell_type": "markdown",
      "id": "e58fcde5",
      "metadata": {
        "id": "e58fcde5"
      },
      "source": [
        "## 2.6 - Tratando a coluna Gross\n",
        "\n",
        "> Procurei rapidamente alguns titulos em que a coluna Gross está com dados nulos e percebi que nosso dataset apesar de ter titulos com produções internacionais, esta considerando apenas o valor de faturamento doméstico (USA/Canadá).\n",
        "\n",
        "* Vamos substituír os dados nulos da coluna **Gross** pela mediana da coluna **Gross** agrupado por ***década/genero***. Para isto vamos:\n",
        "    1. Formatar os type das colunas **Released_Year** e **Gross** para númerico.\n",
        "    2. Criar a coluna \"**decade**\", com a década de lançamento de cada titulo.\n",
        "    3. Fazer o preenchimento dos dados nulos da coluna **Gross** pela mediana agrupada pelas colunas **decade** e **main_genre**."
      ]
    },
    {
      "cell_type": "code",
      "execution_count": 44,
      "id": "c85f8b56",
      "metadata": {
        "colab": {
          "base_uri": "https://localhost:8080/"
        },
        "id": "c85f8b56",
        "outputId": "9a672c0d-336c-41bc-dad9-0fb3c2101d2f"
      },
      "outputs": [
        {
          "name": "stdout",
          "output_type": "stream",
          "text": [
            "['1972' '2008' '1974' '1957' '2003' '1994' '1993' '2010' '1999' '2001'\n",
            " '1966' '2002' '1990' '1980' '1975' '2020' '2019' '2014' '1998' '1997'\n",
            " '1995' '1991' '1977' '1962' '1954' '1946' '2011' '2006' '2000' '1988'\n",
            " '1985' '1968' '1960' '1942' '1936' '1931' '2018' '2017' '2016' '2012'\n",
            " '2009' '2007' '1984' '1981' '1979' '1971' '1963' '1964' '1950' '1940'\n",
            " '2013' '2005' '2004' '1992' '1987' '1986' '1983' '1976' '1973' '1965'\n",
            " '1959' '1958' '1952' '1948' '1944' '1941' '1927' '1921' '2015' '1996'\n",
            " '1989' '1978' '1961' '1955' '1953' '1925' '1924' '1982' '1967' '1951'\n",
            " '1949' '1939' '1937' '1934' '1928' '1926' '1970' '1969' '1956' '1947'\n",
            " '1945' '1930' '1938' '1935' '1933' '1932' '1943' 'PG']\n"
          ]
        }
      ],
      "source": [
        "# Analisando o conteudo da coluna \"Released_Year\"\n",
        "print(imdb.Released_Year.unique())"
      ]
    },
    {
      "cell_type": "markdown",
      "id": "d0e71af6",
      "metadata": {
        "id": "d0e71af6"
      },
      "source": [
        "> Há um valor \"**PG**\" no meio dos anos de lançamento. Vou forçar todos os valores para númericos, e os que forem **PG**, vão virar **Nulos** e então trataremos deles."
      ]
    },
    {
      "cell_type": "code",
      "execution_count": 45,
      "id": "e40fadce",
      "metadata": {
        "colab": {
          "base_uri": "https://localhost:8080/",
          "height": 81
        },
        "id": "e40fadce",
        "outputId": "6a2ec1ea-b788-4633-df49-50c8d311f274"
      },
      "outputs": [
        {
          "data": {
            "text/html": [
              "<div>\n",
              "<style scoped>\n",
              "    .dataframe tbody tr th:only-of-type {\n",
              "        vertical-align: middle;\n",
              "    }\n",
              "\n",
              "    .dataframe tbody tr th {\n",
              "        vertical-align: top;\n",
              "    }\n",
              "\n",
              "    .dataframe thead th {\n",
              "        text-align: right;\n",
              "    }\n",
              "</style>\n",
              "<table border=\"1\" class=\"dataframe\">\n",
              "  <thead>\n",
              "    <tr style=\"text-align: right;\">\n",
              "      <th></th>\n",
              "      <th>Series_Title</th>\n",
              "      <th>Director</th>\n",
              "      <th>Star1</th>\n",
              "    </tr>\n",
              "  </thead>\n",
              "  <tbody>\n",
              "    <tr>\n",
              "      <th>965</th>\n",
              "      <td>Apollo 13</td>\n",
              "      <td>Ron Howard</td>\n",
              "      <td>Tom Hanks</td>\n",
              "    </tr>\n",
              "  </tbody>\n",
              "</table>\n",
              "</div>"
            ],
            "text/plain": [
              "    Series_Title    Director      Star1\n",
              "965    Apollo 13  Ron Howard  Tom Hanks"
            ]
          },
          "execution_count": 45,
          "metadata": {},
          "output_type": "execute_result"
        }
      ],
      "source": [
        "# Convertendo a coluna Released_Year para numeric\n",
        "imdb['Released_Year'] = pd.to_numeric(imdb['Released_Year'], errors='coerce')\n",
        "\n",
        "# Visualizando titulos com Released_Year nulo\n",
        "imdb[imdb['Released_Year'].isnull()][['Series_Title','Director','Star1']]"
      ]
    },
    {
      "cell_type": "markdown",
      "id": "dad73209",
      "metadata": {
        "id": "dad73209"
      },
      "source": [
        "> Como é apenas 1 filme que está faltando a data, busquei no IMDB [Link](https://www.imdb.com/title/tt0112384/?ref_=fn_ttl_ttl_1) e vi que o ano de lançamento foi 1995. Vou apenas preencher com a informação correta.\n",
        "\n",
        "* Já vou mudar o tipo da coluna Gross e Released_Year para númerico."
      ]
    },
    {
      "cell_type": "code",
      "execution_count": 46,
      "id": "4ff2f404",
      "metadata": {
        "colab": {
          "base_uri": "https://localhost:8080/"
        },
        "id": "4ff2f404",
        "outputId": "cfb2cdfd-18b4-4ea0-e837-ab878a21215a"
      },
      "outputs": [
        {
          "name": "stdout",
          "output_type": "stream",
          "text": [
            "Nulos antes da conversão: 167\n",
            "Nulos após da conversão: 167\n"
          ]
        }
      ],
      "source": [
        "# Substutuíndo o valor nulo da coluna Released_Year pelo dado correto.\n",
        "imdb['Released_Year'] = imdb['Released_Year'].fillna(1995)\n",
        "\n",
        "# Removendo as \",\" da coluna Gross.\n",
        "imdb['Gross'] = imdb['Gross'].str.replace(',','', regex=True)\n",
        "\n",
        "# Convertendo a coluna gross para numerico.\n",
        "print('Nulos antes da conversão:',imdb['Gross'].isnull().sum())\n",
        "imdb['Gross'] = pd.to_numeric(imdb['Gross'], errors='coerce')\n",
        "print('Nulos após da conversão:',imdb['Gross'].isnull().sum())"
      ]
    },
    {
      "cell_type": "markdown",
      "id": "584017b5",
      "metadata": {
        "id": "584017b5"
      },
      "source": [
        "> Criando a coluna **decade**."
      ]
    },
    {
      "cell_type": "code",
      "execution_count": 47,
      "id": "bcf83c49",
      "metadata": {
        "colab": {
          "base_uri": "https://localhost:8080/"
        },
        "id": "bcf83c49",
        "outputId": "79d30959-73b1-409a-ff89-e761eb5af276"
      },
      "outputs": [
        {
          "name": "stdout",
          "output_type": "stream",
          "text": [
            "Quantidade de nulos na coluna decade: 0\n"
          ]
        }
      ],
      "source": [
        "# Criar faixas de 10 em 10 anos\n",
        "imdb['decade'] = (imdb['Released_Year'] // 10 * 10).astype('Int64')\n",
        "\n",
        "print('Quantidade de nulos na coluna decade:',imdb['decade'].isnull().sum())"
      ]
    },
    {
      "cell_type": "markdown",
      "id": "69c0123b",
      "metadata": {
        "id": "69c0123b"
      },
      "source": [
        "> Substituíndo valores **nulos** pela mediana agrupada pelas colunas **decade** e **main_genre**"
      ]
    },
    {
      "cell_type": "code",
      "execution_count": 48,
      "id": "abe692d7",
      "metadata": {
        "colab": {
          "base_uri": "https://localhost:8080/"
        },
        "id": "abe692d7",
        "outputId": "cebc83e5-2fe8-40b1-87a4-de8300226103"
      },
      "outputs": [
        {
          "name": "stdout",
          "output_type": "stream",
          "text": [
            "Quantidade de nulos na coluna Gross: 12\n"
          ]
        }
      ],
      "source": [
        "# Substituíndo valores nulos pela mediana agrupada pelas colunas decade e main_genre\n",
        "imdb['Gross'] = imdb['Gross'].fillna(imdb.groupby(['decade','main_genre'])['Gross'].transform('median'))\n",
        "\n",
        "print('Quantidade de nulos na coluna Gross:',imdb['Gross'].isnull().sum())"
      ]
    },
    {
      "cell_type": "markdown",
      "id": "6dd7a530",
      "metadata": {
        "id": "6dd7a530"
      },
      "source": [
        "* Restaram 12 titulos com nulos na coluna Gross. Vamos ver quais são esses titulos."
      ]
    },
    {
      "cell_type": "code",
      "execution_count": 49,
      "id": "85ddad9b",
      "metadata": {
        "colab": {
          "base_uri": "https://localhost:8080/",
          "height": 425
        },
        "id": "85ddad9b",
        "outputId": "8611a69a-5f71-48dc-c8db-bd5e309a2459"
      },
      "outputs": [
        {
          "data": {
            "text/html": [
              "<div>\n",
              "<style scoped>\n",
              "    .dataframe tbody tr th:only-of-type {\n",
              "        vertical-align: middle;\n",
              "    }\n",
              "\n",
              "    .dataframe tbody tr th {\n",
              "        vertical-align: top;\n",
              "    }\n",
              "\n",
              "    .dataframe thead th {\n",
              "        text-align: right;\n",
              "    }\n",
              "</style>\n",
              "<table border=\"1\" class=\"dataframe\">\n",
              "  <thead>\n",
              "    <tr style=\"text-align: right;\">\n",
              "      <th></th>\n",
              "      <th>Series_Title</th>\n",
              "      <th>decade</th>\n",
              "      <th>Gross</th>\n",
              "      <th>main_genre</th>\n",
              "    </tr>\n",
              "  </thead>\n",
              "  <tbody>\n",
              "    <tr>\n",
              "      <th>17</th>\n",
              "      <td>Hamilton</td>\n",
              "      <td>2020</td>\n",
              "      <td>NaN</td>\n",
              "      <td>Biography</td>\n",
              "    </tr>\n",
              "    <tr>\n",
              "      <th>19</th>\n",
              "      <td>Soorarai Pottru</td>\n",
              "      <td>2020</td>\n",
              "      <td>NaN</td>\n",
              "      <td>Drama</td>\n",
              "    </tr>\n",
              "    <tr>\n",
              "      <th>204</th>\n",
              "      <td>Soul</td>\n",
              "      <td>2020</td>\n",
              "      <td>NaN</td>\n",
              "      <td>Animation</td>\n",
              "    </tr>\n",
              "    <tr>\n",
              "      <th>307</th>\n",
              "      <td>White Heat</td>\n",
              "      <td>1940</td>\n",
              "      <td>NaN</td>\n",
              "      <td>Action</td>\n",
              "    </tr>\n",
              "    <tr>\n",
              "      <th>463</th>\n",
              "      <td>Dil Bechara</td>\n",
              "      <td>2020</td>\n",
              "      <td>NaN</td>\n",
              "      <td>Comedy</td>\n",
              "    </tr>\n",
              "    <tr>\n",
              "      <th>611</th>\n",
              "      <td>The Trial of the Chicago 7</td>\n",
              "      <td>2020</td>\n",
              "      <td>NaN</td>\n",
              "      <td>Drama</td>\n",
              "    </tr>\n",
              "    <tr>\n",
              "      <th>612</th>\n",
              "      <td>Druk</td>\n",
              "      <td>2020</td>\n",
              "      <td>NaN</td>\n",
              "      <td>Comedy</td>\n",
              "    </tr>\n",
              "    <tr>\n",
              "      <th>708</th>\n",
              "      <td>Red River</td>\n",
              "      <td>1940</td>\n",
              "      <td>NaN</td>\n",
              "      <td>Action</td>\n",
              "    </tr>\n",
              "    <tr>\n",
              "      <th>709</th>\n",
              "      <td>Key Largo</td>\n",
              "      <td>1940</td>\n",
              "      <td>NaN</td>\n",
              "      <td>Action</td>\n",
              "    </tr>\n",
              "    <tr>\n",
              "      <th>713</th>\n",
              "      <td>The Lady Vanishes</td>\n",
              "      <td>1930</td>\n",
              "      <td>NaN</td>\n",
              "      <td>Mystery</td>\n",
              "    </tr>\n",
              "    <tr>\n",
              "      <th>828</th>\n",
              "      <td>Spoorloos</td>\n",
              "      <td>1980</td>\n",
              "      <td>NaN</td>\n",
              "      <td>Mystery</td>\n",
              "    </tr>\n",
              "    <tr>\n",
              "      <th>875</th>\n",
              "      <td>The Invisible Man</td>\n",
              "      <td>1930</td>\n",
              "      <td>NaN</td>\n",
              "      <td>Horror</td>\n",
              "    </tr>\n",
              "  </tbody>\n",
              "</table>\n",
              "</div>"
            ],
            "text/plain": [
              "                   Series_Title  decade  Gross main_genre\n",
              "17                     Hamilton    2020    NaN  Biography\n",
              "19              Soorarai Pottru    2020    NaN      Drama\n",
              "204                        Soul    2020    NaN  Animation\n",
              "307                  White Heat    1940    NaN     Action\n",
              "463                 Dil Bechara    2020    NaN     Comedy\n",
              "611  The Trial of the Chicago 7    2020    NaN      Drama\n",
              "612                        Druk    2020    NaN     Comedy\n",
              "708                   Red River    1940    NaN     Action\n",
              "709                   Key Largo    1940    NaN     Action\n",
              "713           The Lady Vanishes    1930    NaN    Mystery\n",
              "828                   Spoorloos    1980    NaN    Mystery\n",
              "875           The Invisible Man    1930    NaN     Horror"
            ]
          },
          "execution_count": 49,
          "metadata": {},
          "output_type": "execute_result"
        }
      ],
      "source": [
        "# Exibindo titulos com valores de Gross nulos\n",
        "imdb[imdb['Gross'].isnull()][['Series_Title','decade','Gross','main_genre']]"
      ]
    },
    {
      "cell_type": "code",
      "execution_count": 50,
      "id": "NACv0B2N_3nO",
      "metadata": {
        "colab": {
          "base_uri": "https://localhost:8080/",
          "height": 460
        },
        "id": "NACv0B2N_3nO",
        "outputId": "16a5f31a-bb3c-4ec4-d772-69fe08c8c13f"
      },
      "outputs": [
        {
          "data": {
            "text/plain": [
              "decade\n",
              "2010    242\n",
              "2000    237\n",
              "1990    150\n",
              "1980     89\n",
              "1970     76\n",
              "1960     73\n",
              "1950     56\n",
              "1940     35\n",
              "1930     24\n",
              "1920      9\n",
              "2020      6\n",
              "Name: count, dtype: Int64"
            ]
          },
          "execution_count": 50,
          "metadata": {},
          "output_type": "execute_result"
        }
      ],
      "source": [
        "# Exibindo quantos valores pode Década\n",
        "imdb.decade.value_counts()"
      ]
    },
    {
      "cell_type": "markdown",
      "id": "BOnhPpTgAdri",
      "metadata": {
        "id": "BOnhPpTgAdri"
      },
      "source": [
        "* Apesar de todos os titulos da década de **2020** estarem com **Gross** nulos, vou fazer a remoção de todos os 12 valores nulos."
      ]
    },
    {
      "cell_type": "code",
      "execution_count": 51,
      "id": "5c2a33b3",
      "metadata": {
        "colab": {
          "base_uri": "https://localhost:8080/"
        },
        "id": "5c2a33b3",
        "outputId": "1eae2bbe-cff8-4b78-ce55-47e4f9228d45"
      },
      "outputs": [
        {
          "name": "stdout",
          "output_type": "stream",
          "text": [
            "Quantidade de nulos no dataset: 0\n",
            "Quantidade de linhas do dataset: 985\n",
            "Quantidade de linhas duplicadas no dataset: 0\n"
          ]
        }
      ],
      "source": [
        "# Removendo valores nulos da coluna Gross\n",
        "imdb = imdb.dropna(subset=['Gross'])\n",
        "\n",
        "print('Quantidade de nulos no dataset:', imdb.isnull().sum().sum())\n",
        "\n",
        "print('Quantidade de linhas do dataset:',imdb.shape[0])\n",
        "\n",
        "print('Quantidade de linhas duplicadas no dataset:',imdb.duplicated().sum())\n"
      ]
    },
    {
      "cell_type": "code",
      "execution_count": 52,
      "id": "e59c2954",
      "metadata": {
        "colab": {
          "base_uri": "https://localhost:8080/"
        },
        "id": "e59c2954",
        "outputId": "81a752de-5c16-445c-c315-df113311c39a"
      },
      "outputs": [
        {
          "name": "stdout",
          "output_type": "stream",
          "text": [
            "           Coluna     Tipo\n",
            "0    Series_Title   object\n",
            "1   Released_Year  float64\n",
            "2     Certificate   object\n",
            "3           Genre   object\n",
            "4     IMDB_Rating  float64\n",
            "5        Overview   object\n",
            "6      Meta_score  float64\n",
            "7        Director   object\n",
            "8           Star1   object\n",
            "9           Star2   object\n",
            "10          Star3   object\n",
            "11          Star4   object\n",
            "12    No_of_Votes    int64\n",
            "13          Gross  float64\n",
            "14    Runtime_min    int64\n",
            "15     main_genre   object\n",
            "16         decade    Int64\n"
          ]
        }
      ],
      "source": [
        "print(imdb.dtypes.reset_index().rename(columns={\"index\": \"Coluna\", 0: \"Tipo\"}))\n"
      ]
    },
    {
      "cell_type": "markdown",
      "id": "f09f9dfc",
      "metadata": {
        "id": "f09f9dfc"
      },
      "source": [
        "# 3. Analise exploratória (EDA)\n",
        "\n"
      ]
    },
    {
      "cell_type": "markdown",
      "id": "QfKWZ1Twam11",
      "metadata": {
        "id": "QfKWZ1Twam11"
      },
      "source": [
        "## 3.1 Qual genero tem o maior IMDB_Rating?"
      ]
    },
    {
      "cell_type": "code",
      "execution_count": 53,
      "id": "36b8954b",
      "metadata": {
        "colab": {
          "base_uri": "https://localhost:8080/",
          "height": 565
        },
        "id": "36b8954b",
        "outputId": "014707db-61de-4d42-e6aa-cfe581dd8e22"
      },
      "outputs": [
        {
          "name": "stderr",
          "output_type": "stream",
          "text": [
            "C:\\Users\\jbmor_cyx2d7v\\AppData\\Local\\Temp\\ipykernel_17136\\4219526651.py:3: FutureWarning: \n",
            "\n",
            "Passing `palette` without assigning `hue` is deprecated and will be removed in v0.14.0. Assign the `y` variable to `hue` and set `legend=False` for the same effect.\n",
            "\n",
            "  sns.barplot(x=genre_gross.values, y=genre_gross.index, palette='viridis')\n"
          ]
        },
        {
          "data": {
            "image/png": "[encoded data removed]",
            "text/plain": [
              "<Figure size 640x480 with 1 Axes>"
            ]
          },
          "metadata": {},
          "output_type": "display_data"
        }
      ],
      "source": [
        "# Grafico de barras IMDB_Rating x main_genre\n",
        "genre_gross = imdb.groupby('main_genre')['IMDB_Rating'].mean().sort_values(ascending=False)\n",
        "sns.barplot(x=genre_gross.values, y=genre_gross.index, palette='viridis')\n",
        "plt.title('IMDB_Rating Médio por Gênero')\n",
        "plt.xlabel('IMDB_Rating Médio')\n",
        "plt.show()"
      ]
    },
    {
      "cell_type": "markdown",
      "id": "6mu93Limb8pW",
      "metadata": {
        "id": "6mu93Limb8pW"
      },
      "source": [
        "* O gerenro **Western** se destaca com a melhor média ."
      ]
    },
    {
      "cell_type": "markdown",
      "id": "x5vnWFQVFnrB",
      "metadata": {
        "id": "x5vnWFQVFnrB"
      },
      "source": [
        "## 3.2 Quantos representantes de cada genero temos nos nossos dados?"
      ]
    },
    {
      "cell_type": "code",
      "execution_count": 54,
      "id": "1ocD_K49b6U0",
      "metadata": {
        "colab": {
          "base_uri": "https://localhost:8080/",
          "height": 799
        },
        "id": "1ocD_K49b6U0",
        "outputId": "a6b89d46-d079-4c83-ce19-a1e73b2aa158"
      },
      "outputs": [
        {
          "name": "stderr",
          "output_type": "stream",
          "text": [
            "C:\\Users\\jbmor_cyx2d7v\\AppData\\Local\\Temp\\ipykernel_17136\\1088669469.py:5: FutureWarning: \n",
            "\n",
            "Passing `palette` without assigning `hue` is deprecated and will be removed in v0.14.0. Assign the `x` variable to `hue` and set `legend=False` for the same effect.\n",
            "\n",
            "  ax = sns.barplot(x=genre_counts.index, y=genre_counts.values, palette='viridis')\n"
          ]
        },
        {
          "data": {
            "image/png": "[encoded data removed]",
            "text/plain": [
              "<Figure size 1200x700 with 1 Axes>"
            ]
          },
          "metadata": {},
          "output_type": "display_data"
        }
      ],
      "source": [
        "# Grafico de barras contagem de filmes por genero\n",
        "genre_counts = imdb['main_genre'].value_counts()\n",
        "\n",
        "plt.figure(figsize=(12, 7))\n",
        "ax = sns.barplot(x=genre_counts.index, y=genre_counts.values, palette='viridis')\n",
        "\n",
        "for bar in ax.patches:\n",
        "    ax.text(\n",
        "        x=bar.get_x() + bar.get_width() / 2,\n",
        "        y=bar.get_height(),\n",
        "        s=f'{int(bar.get_height())}',\n",
        "        ha='center',\n",
        "        va='bottom',\n",
        "        fontsize=10\n",
        "    )\n",
        "\n",
        "plt.title('Contagem de Filmes por Gênero Principal', fontsize=16)\n",
        "plt.xlabel('Gênero', fontsize=12)\n",
        "plt.ylabel('Número de Filmes', fontsize=12)\n",
        "plt.xticks(rotation=45, ha='right')\n",
        "ax.set_ylim(0, genre_counts.max() * 1.1)\n",
        "\n",
        "plt.tight_layout()\n",
        "plt.show()"
      ]
    },
    {
      "cell_type": "markdown",
      "id": "5iOQjy1ocXBq",
      "metadata": {
        "id": "5iOQjy1ocXBq"
      },
      "source": [
        "* O genero **Western** tem apenas 4 representantes e a maior média no **IMDB_Rating**, será que essa performance permaneceria se houvesse mais representantes?\n",
        "* O genero **Drama** tem 286 representantes e a quinta maior média no **IMDB_Rating**"
      ]
    },
    {
      "cell_type": "markdown",
      "id": "bfXseL6eGeyF",
      "metadata": {
        "id": "bfXseL6eGeyF"
      },
      "source": [
        "## 3.3 Quais variáveis tem maior correlação com o Gross?"
      ]
    },
    {
      "cell_type": "code",
      "execution_count": 55,
      "id": "aajkCCFlZo6h",
      "metadata": {
        "colab": {
          "base_uri": "https://localhost:8080/",
          "height": 950
        },
        "id": "aajkCCFlZo6h",
        "outputId": "cec4b050-2056-4049-b38d-10ac816b0d48"
      },
      "outputs": [
        {
          "name": "stdout",
          "output_type": "stream",
          "text": [
            "Correlação das variáveis com a Nota do IMDB:\n",
            "Gross            1.00\n",
            "No_of_Votes      0.59\n",
            "Released_Year    0.27\n",
            "decade           0.27\n",
            "Runtime_min      0.15\n",
            "IMDB_Rating      0.09\n",
            "Meta_score      -0.07\n",
            "Name: Gross, dtype: float64\n"
          ]
        },
        {
          "data": {
            "image/png": "[encoded data removed]",
            "text/plain": [
              "<Figure size 1000x800 with 2 Axes>"
            ]
          },
          "metadata": {},
          "output_type": "display_data"
        }
      ],
      "source": [
        "# Matriz de correlação\n",
        "numeric_cols = imdb.select_dtypes(include=np.number)\n",
        "correlation_matrix = numeric_cols.corr()\n",
        "imdb_rating_corr = correlation_matrix['Gross'].sort_values(ascending=False)\n",
        "\n",
        "print(\"Correlação das variáveis com a Nota do IMDB:\")\n",
        "print(imdb_rating_corr)\n",
        "\n",
        "plt.figure(figsize=(10, 8))\n",
        "sns.heatmap(correlation_matrix, annot=True, cmap='viridis', fmt=\".2f\")\n",
        "plt.title('Matriz de Correlação das Variáveis Numéricas')\n",
        "plt.show()"
      ]
    },
    {
      "cell_type": "markdown",
      "id": "ocDAqQOCdMZ6",
      "metadata": {
        "id": "ocDAqQOCdMZ6"
      },
      "source": [
        "* **decade** tema maior correlação com o faturamento e isto é facilmente explicado pela globalização do acesso e o aumento populacional.\n",
        "* **No_of_Votes** tem a segunda maior correlação. Pois o número de pessoas que votaram está diretamente ligado ao número de pessoas que pagaram para assistir o titulo.\n",
        "* **Meta_score** Tem a menor correlação com o faturamento. A crítica de especialistas parece não ter muita influencia na população geral."
      ]
    },
    {
      "cell_type": "markdown",
      "id": "m8A1vVhoG67n",
      "metadata": {
        "id": "m8A1vVhoG67n"
      },
      "source": [
        "## 3.4 Qual a média de faturamento por genero?"
      ]
    },
    {
      "cell_type": "code",
      "execution_count": 56,
      "id": "VXpV5WsciuN5",
      "metadata": {
        "colab": {
          "base_uri": "https://localhost:8080/",
          "height": 623
        },
        "id": "VXpV5WsciuN5",
        "outputId": "fed3536c-9b40-46f5-d164-687587f45d20"
      },
      "outputs": [
        {
          "data": {
            "image/png": "[encoded data removed]",
            "text/plain": [
              "<Figure size 1200x600 with 1 Axes>"
            ]
          },
          "metadata": {},
          "output_type": "display_data"
        }
      ],
      "source": [
        "faturamento_por_genero = imdb.groupby('main_genre')['Gross'].mean().sort_values(ascending=False)\n",
        "\n",
        "ax = faturamento_por_genero.plot(\n",
        "    kind='bar',\n",
        "    figsize=(12,6),cmap='viridis',\n",
        "    title='Faturamento Médio por Gênero'\n",
        ")\n",
        "ax.yaxis.set_major_formatter(ticker.FuncFormatter(lambda x, _: f'{x/1e6:.0f}M'))\n",
        "\n",
        "plt.ylabel(\"Milhões de dólares\")\n",
        "plt.show()\n"
      ]
    },
    {
      "cell_type": "markdown",
      "id": "D0Ir37tKlvBz",
      "metadata": {
        "id": "D0Ir37tKlvBz"
      },
      "source": [
        "* O genero Family possui o maior faturamento médio, acima de R$ 200 milhões.\n",
        "* O genero Western que perfoma em primeiro na média do Imdb_Rating, esta em penultimo no ranking de faturamento."
      ]
    },
    {
      "cell_type": "markdown",
      "id": "xK0WgJTTmQDx",
      "metadata": {
        "id": "xK0WgJTTmQDx"
      },
      "source": [
        "## 3.5 Qual diretor possuí maior média de faturamento?"
      ]
    },
    {
      "cell_type": "code",
      "execution_count": 57,
      "id": "mnGOdYfqg9v6",
      "metadata": {
        "colab": {
          "base_uri": "https://localhost:8080/"
        },
        "id": "mnGOdYfqg9v6",
        "outputId": "4f474309-8b4c-4ddd-ccc3-f6e0dc61121f"
      },
      "outputs": [
        {
          "name": "stdout",
          "output_type": "stream",
          "text": [
            "               media_faturamento  qtd_filmes\n",
            "Director                                    \n",
            "Anthony Russo           $551.3 M           4\n",
            "Gareth Edwards          $532.2 M           1\n",
            "J.J. Abrams             $474.4 M           3\n",
            "Josh Cooley             $434.0 M           1\n",
            "Roger Allers            $422.8 M           1\n",
            "Tim Miller              $363.1 M           1\n",
            "James Gunn              $361.5 M           2\n",
            "James Cameron           $349.6 M           5\n",
            "Byron Howard            $341.3 M           1\n",
            "David Yates             $326.3 M           3\n"
          ]
        }
      ],
      "source": [
        "faturamento_por_diretor = imdb.groupby('Director').agg(\n",
        "    media_faturamento=('Gross', 'mean'),\n",
        "    qtd_filmes=('Gross', 'count')\n",
        ").sort_values(by='media_faturamento', ascending=False)\n",
        "\n",
        "faturamento_por_diretor['media_faturamento'] = faturamento_por_diretor['media_faturamento'].apply(formatar_faturamento)\n",
        "\n",
        "print(faturamento_por_diretor.head(10))"
      ]
    },
    {
      "cell_type": "markdown",
      "id": "cRvG5b8Fmi2S",
      "metadata": {
        "id": "cRvG5b8Fmi2S"
      },
      "source": [
        "* Diretores como Anthony Russo (com 4 filmes) e J.J. Abrams (com 3 filmes) aparecem com faturamento médio muito alto, o que indica que conseguiram manter o sucesso em mais de uma produção. Isso mostra que não foi apenas sorte de um único filme, mas sim consistência."
      ]
    },
    {
      "cell_type": "markdown",
      "id": "1IrbSpJ_Mllq",
      "metadata": {
        "id": "1IrbSpJ_Mllq"
      },
      "source": [
        "## 3.6 Quais são as combinações de palavras mais frequentes na coluna Overview?"
      ]
    },
    {
      "cell_type": "code",
      "execution_count": 58,
      "id": "OzC5mT10TmVn",
      "metadata": {
        "colab": {
          "base_uri": "https://localhost:8080/",
          "height": 565
        },
        "id": "OzC5mT10TmVn",
        "outputId": "0d0925ef-ab2b-4e64-87d7-0f954850d6ce"
      },
      "outputs": [
        {
          "data": {
            "image/png": "[encoded data removed]",
            "text/plain": [
              "<Figure size 1000x600 with 1 Axes>"
            ]
          },
          "metadata": {},
          "output_type": "display_data"
        }
      ],
      "source": [
        "# Palavras da coluna Overview que aparecem juntas mais vezes\n",
        "stop_words = set(stopwords.words('english'))\n",
        "vec = CountVectorizer(ngram_range=(2, 2), stop_words=list(stop_words)).fit(imdb['Overview'])\n",
        "bag_of_words = vec.transform(imdb['Overview'])\n",
        "sum_words = bag_of_words.sum(axis=0)\n",
        "words_freq = [(word, sum_words[0, idx]) for word, idx in vec.vocabulary_.items()]\n",
        "words_freq = sorted(words_freq, key = lambda x: x[1], reverse=True)\n",
        "\n",
        "# Criando DataFrame para a visualização\n",
        "df_bigrams = pd.DataFrame(words_freq[:20], columns=['Bigram', 'Frequência'])\n",
        "\n",
        "# Grafico de barras\n",
        "plt.figure(figsize=(10,6))\n",
        "plt.barh(\n",
        "    df_bigrams['Bigram'][::-1],\n",
        "    df_bigrams['Frequência'][::-1],\n",
        "    color=plt.cm.viridis(df_bigrams['Frequência'][::-1] / max(df_bigrams['Frequência']))\n",
        ")\n",
        "plt.title(\"Top 20 combinações de palavras no Overview\")\n",
        "plt.xlabel(\"Frequência\")\n",
        "plt.ylabel(\"Bigram\")\n",
        "plt.show()"
      ]
    },
    {
      "cell_type": "markdown",
      "id": "_6b-80AaM_9A",
      "metadata": {
        "id": "_6b-80AaM_9A"
      },
      "source": [
        "* A combinação \"world war\" fico no topo do ranking com cerca de 30 menções.\n",
        "* Se somarmos todas as combinações que tem a palavra \"yong\" chegaremos a cerca de 55 menções."
      ]
    },
    {
      "cell_type": "markdown",
      "id": "e25b4d82",
      "metadata": {},
      "source": [
        "> Com base nas análises feitas, eu recomendaria para uma pessoa que não conheço assistir The Godfather. Ele tem alto número de votos (1620367) oque sugere uma alta popularidade, o genero Crime/Drama tem otimas médias gerais de IMDB_Rating que indica que são generos bem aceitos pela população, além de possuir mais 2 filmes de sucesso como sequencia."
      ]
    },
    {
      "cell_type": "markdown",
      "id": "ID1Qyp1yOKb6",
      "metadata": {
        "id": "ID1Qyp1yOKb6"
      },
      "source": [
        "# 4 - Machine Learning / Modelagem"
      ]
    },
    {
      "cell_type": "markdown",
      "id": "BY5Lm-VuofKK",
      "metadata": {
        "id": "BY5Lm-VuofKK"
      },
      "source": [
        "## 4.1 - É possível inferir o genero do titulo através da coluna Overview?"
      ]
    },
    {
      "cell_type": "code",
      "execution_count": 59,
      "id": "FW3bxXboUGxw",
      "metadata": {
        "colab": {
          "base_uri": "https://localhost:8080/"
        },
        "id": "FW3bxXboUGxw",
        "outputId": "9a58eb91-1255-466f-d5cc-a80b0ae46cbb"
      },
      "outputs": [
        {
          "name": "stdout",
          "output_type": "stream",
          "text": [
            "Acurácia do modelo: 33.20%\n",
            "\n",
            "Relatório de Classificação:\n",
            "              precision    recall  f1-score   support\n",
            "\n",
            "      Action       0.42      0.27      0.33        52\n",
            "   Adventure       0.00      0.00      0.00        15\n",
            "   Animation       0.00      0.00      0.00        17\n",
            "   Biography       0.00      0.00      0.00        19\n",
            "      Comedy       0.28      0.13      0.18        38\n",
            "       Crime       0.60      0.11      0.18        28\n",
            "       Drama       0.31      0.88      0.46        68\n",
            "      Family       0.00      0.00      0.00         2\n",
            "      Horror       0.00      0.00      0.00         3\n",
            "     Mystery       0.00      0.00      0.00         5\n",
            "\n",
            "    accuracy                           0.33       247\n",
            "   macro avg       0.16      0.14      0.12       247\n",
            "weighted avg       0.29      0.33      0.24       247\n",
            "\n"
          ]
        },
        {
          "name": "stderr",
          "output_type": "stream",
          "text": [
            "c:\\Users\\jbmor_cyx2d7v\\Documents\\Indicium\\Ciencia de dados\\.venv\\Lib\\site-packages\\sklearn\\metrics\\_classification.py:1731: UndefinedMetricWarning: Precision is ill-defined and being set to 0.0 in labels with no predicted samples. Use `zero_division` parameter to control this behavior.\n",
            "  _warn_prf(average, modifier, f\"{metric.capitalize()} is\", result.shape[0])\n",
            "c:\\Users\\jbmor_cyx2d7v\\Documents\\Indicium\\Ciencia de dados\\.venv\\Lib\\site-packages\\sklearn\\metrics\\_classification.py:1731: UndefinedMetricWarning: Precision is ill-defined and being set to 0.0 in labels with no predicted samples. Use `zero_division` parameter to control this behavior.\n",
            "  _warn_prf(average, modifier, f\"{metric.capitalize()} is\", result.shape[0])\n",
            "c:\\Users\\jbmor_cyx2d7v\\Documents\\Indicium\\Ciencia de dados\\.venv\\Lib\\site-packages\\sklearn\\metrics\\_classification.py:1731: UndefinedMetricWarning: Precision is ill-defined and being set to 0.0 in labels with no predicted samples. Use `zero_division` parameter to control this behavior.\n",
            "  _warn_prf(average, modifier, f\"{metric.capitalize()} is\", result.shape[0])\n"
          ]
        }
      ],
      "source": [
        "# Configurando o e vetorizando a coluna Overiew\n",
        "tfidf = TfidfVectorizer(sublinear_tf=True,\n",
        "                        min_df=5,\n",
        "                        norm='l2',\n",
        "                        encoding='latin-1',\n",
        "                        ngram_range=(1, 2),\n",
        "                        stop_words=list(stop_words))\n",
        "\n",
        "features = tfidf.fit_transform(imdb.Overview).toarray()\n",
        "labels = imdb.main_genre\n",
        "\n",
        "# Separando os dados entre treino e teste\n",
        "X_train, X_test, y_train, y_test = train_test_split(features, labels,\n",
        "                                                    test_size=0.25,\n",
        "                                                    random_state=42)\n",
        "\n",
        "# Criando o modelo\n",
        "model = MultinomialNB()\n",
        "\n",
        "# Treinando o modelo\n",
        "model.fit(X_train, y_train)\n",
        "\n",
        "# Realização a predição\n",
        "y_pred = model.predict(X_test)\n",
        "\n",
        "print(f\"Acurácia do modelo: {accuracy_score(y_test, y_pred)*100:.2f}%\")\n",
        "print(\"\\nRelatório de Classificação:\")\n",
        "print(classification_report(y_test, y_pred))"
      ]
    },
    {
      "cell_type": "markdown",
      "id": "ODCQGpYaVeyU",
      "metadata": {
        "id": "ODCQGpYaVeyU"
      },
      "source": [
        "* É possível prever o genero do filme através da coluna **Overview**.\n",
        "* A eficacia do modelo ficou em **33.20%.**\n",
        "* A baixa eficacia é resultado de um dataset desbalanceado, com muitos representantes do genero Drama, influenciando o algorito a \"prever\" o genero **Drama** com mais frequencia."
      ]
    },
    {
      "cell_type": "markdown",
      "id": "EBGMTljxWtBB",
      "metadata": {
        "id": "EBGMTljxWtBB"
      },
      "source": [
        "## 4.2 É possível prever o IMDB_Rating de um filme?\n",
        "\n",
        "* Como queremos prever um valor númerico, vamos usar um modelo de Regressão.\n",
        "* Algumas informações relevantes que são categóricas vão ser transformadas em númericas para o modelo entender.\n",
        "* Para calcular o sucesso do modelo, vai ser usado o RMSE. Esta métrica vai nos voltar o erro médio do nosso modelo, quanto mais próximo de 0 o valor de retorno, melhor é o modelo."
      ]
    },
    {
      "cell_type": "code",
      "execution_count": 60,
      "id": "fGjc2-dpfjWG",
      "metadata": {
        "colab": {
          "base_uri": "https://localhost:8080/"
        },
        "id": "fGjc2-dpfjWG",
        "outputId": "83da663f-45a2-4556-eb21-6f5f27e8f0d6"
      },
      "outputs": [
        {
          "name": "stdout",
          "output_type": "stream",
          "text": [
            "O RMSE do modelo foi: 0.20\n"
          ]
        }
      ],
      "source": [
        "# Usaremos variáveis numéricas e categóricas que parecem relevantes.\n",
        "features = ['Meta_score', 'No_of_Votes', 'Gross', 'Runtime_min', 'main_genre', 'Certificate']\n",
        "X = imdb[features]\n",
        "y = imdb['IMDB_Rating']\n",
        "\n",
        "# Converte colunas de texto como 'main_genre' em formato numérico.\n",
        "X_encoded = pd.get_dummies(X, columns=['main_genre', 'Certificate'], drop_first=True)\n",
        "\n",
        "# Divisão em Dados de Treino e Teste\n",
        "X_train, X_test, y_train, y_test = train_test_split(X_encoded, y, test_size=0.2, random_state=42)\n",
        "\n",
        "# Instanciando e treinando o modelo\n",
        "model_reg = RandomForestRegressor(n_estimators=50, random_state=42)\n",
        "model_reg.fit(X_train, y_train)\n",
        "\n",
        "# Fazendo predições nos dados de teste\n",
        "y_pred_reg = model_reg.predict(X_test)\n",
        "\n",
        "# Calculando o RMSE (Root Mean Squared Error)\n",
        "rmse = np.sqrt(mean_squared_error(y_test, y_pred_reg))\n",
        "print(f\"O RMSE do modelo foi: {rmse:.2f}\")\n"
      ]
    },
    {
      "cell_type": "markdown",
      "id": "4b952618",
      "metadata": {},
      "source": [
        "* O RMSE do modelo ficou em 0.20, oque podemos considerar um bom modelo."
      ]
    },
    {
      "cell_type": "code",
      "execution_count": 61,
      "id": "t8W7NhvwXlEd",
      "metadata": {
        "colab": {
          "base_uri": "https://localhost:8080/"
        },
        "id": "t8W7NhvwXlEd",
        "outputId": "bf0629ef-e052-4698-e56e-1f160c99303e"
      },
      "outputs": [
        {
          "name": "stdout",
          "output_type": "stream",
          "text": [
            "A nota prevista para 'The Shawshank Redemption' é: 8.83\n"
          ]
        }
      ],
      "source": [
        "# Criando o DataFrame com os dados do filme\n",
        "filme_exemplo = pd.DataFrame([{\n",
        "    'Meta_score': 80.0,\n",
        "    'No_of_Votes': 2343110,\n",
        "    'Gross': 28341469.0,\n",
        "    'Runtime_min': 142,\n",
        "    'main_genre': 'Drama',\n",
        "    'Certificate': 'A'\n",
        "}])\n",
        "\n",
        "X_encoded_cols = X_train.columns\n",
        "filme_exemplo_encoded = pd.get_dummies(filme_exemplo).reindex(columns=X_encoded_cols, fill_value=0)\n",
        "\n",
        "# Fazendo a previsão\n",
        "nota_prevista = model_reg.predict(filme_exemplo_encoded)\n",
        "print(f\"A nota prevista para 'The Shawshank Redemption' é: {nota_prevista[0]:.2f}\")"
      ]
    },
    {
      "cell_type": "markdown",
      "id": "d3a801c0",
      "metadata": {},
      "source": [
        "* Apesar da nota real do filme '**The Shawshank Redemption**' ser 9.3 e o modelo ter previsto como 8.83, ele previu que com as caracteristicas fornecidas o filme teria uma nota alta."
      ]
    },
    {
      "cell_type": "markdown",
      "id": "744a1608",
      "metadata": {},
      "source": [
        "## 4.3 - Salvando modelo e dependencias"
      ]
    },
    {
      "cell_type": "code",
      "execution_count": 62,
      "id": "hM_71FZtb-fe",
      "metadata": {
        "colab": {
          "base_uri": "https://localhost:8080/"
        },
        "id": "hM_71FZtb-fe",
        "outputId": "4a352e5e-9cf2-46b5-d89c-a0268fca16c6"
      },
      "outputs": [],
      "source": [
        "joblib.dump(model_reg, \"modelo_imdb.pkl\")\n",
        "joblib.dump(X_encoded.columns, \"colunas_treinadas.pkl\")\n",
        "!pip freeze > requirements.txt"
      ]
    }
  ],
  "metadata": {
    "colab": {
      "provenance": []
    },
    "kernelspec": {
      "display_name": ".venv",
      "language": "python",
      "name": "python3"
    },
    "language_info": {
      "codemirror_mode": {
        "name": "ipython",
        "version": 3
      },
      "file_extension": ".py",
      "mimetype": "text/x-python",
      "name": "python",
      "nbconvert_exporter": "python",
      "pygments_lexer": "ipython3",
      "version": "3.13.1"
    }
  },
  "nbformat": 4,
  "nbformat_minor": 5
}
